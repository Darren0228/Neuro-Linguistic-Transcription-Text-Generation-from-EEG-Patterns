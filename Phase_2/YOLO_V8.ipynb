{
 "cells": [
  {
   "cell_type": "code",
   "execution_count": 1,
   "metadata": {},
   "outputs": [
    {
     "name": "stderr",
     "output_type": "stream",
     "text": [
      "c:\\Users\\salib\\anaconda3\\envs\\myenv\\lib\\site-packages\\google\\protobuf\\symbol_database.py:55: UserWarning: SymbolDatabase.GetPrototype() is deprecated. Please use message_factory.GetMessageClass() instead. SymbolDatabase.GetPrototype() will be removed soon.\n",
      "  warnings.warn('SymbolDatabase.GetPrototype() is deprecated. Please '\n"
     ]
    },
    {
     "name": "stdout",
     "output_type": "stream",
     "text": [
      "Capturing region: left = 770, top = 169, width = 600, height = 600\n",
      "Running object detection on the captured region...\n",
      "\n",
      "0: 640x640 13 bananas, 155.2ms\n",
      "Speed: 4.0ms preprocess, 155.2ms inference, 3.0ms postprocess per image at shape (1, 3, 640, 640)\n",
      "Detected banana with confidence 0.7076525092124939 at [472, 174, 127, 153]\n",
      "Bounding box coordinates: [472, 174, 599, 327]\n",
      "Best object detected: banana\n",
      "Detected object: banana\n"
     ]
    }
   ],
   "source": [
    "import cv2\n",
    "import mediapipe as mp\n",
    "import pyautogui\n",
    "import time\n",
    "import numpy as np\n",
    "from ultralytics import YOLO\n",
    "\n",
    "# This will automatically download the weights if not present:\n",
    "model = YOLO(\"yolov8n.pt\")\n",
    "\n",
    "# Load YOLOv8:\n",
    "model = YOLO(\"yolov8n.pt\") \n",
    "\n",
    "# Initialise face mesh:\n",
    "cam = cv2.VideoCapture(0)\n",
    "face_mesh = mp.solutions.face_mesh.FaceMesh(refine_landmarks = True)\n",
    "screen_w, screen_h = pyautogui.size()\n",
    "\n",
    "def detect_objects(frame):\n",
    "\n",
    "    results = model(frame)\n",
    "    boxes = []\n",
    "    confidences = []\n",
    "    class_ids = []\n",
    "\n",
    "    for result in results:\n",
    "\n",
    "        for obj in result.boxes:\n",
    "            boxes.append(obj.xyxy.cpu().numpy().astype(int))\n",
    "            confidences.append(obj.conf.item())\n",
    "            class_ids.append(obj.cls.item())\n",
    "\n",
    "    if len(boxes) > 0:\n",
    "\n",
    "        best_idx = np.argmax(confidences)\n",
    "        x, y, x2, y2 = boxes[best_idx][0]\n",
    "        label = model.names[int(class_ids[best_idx])]\n",
    "        confidence = confidences[best_idx]\n",
    "\n",
    "        print(f\"Detected {label} with confidence {confidence} at [{x}, {y}, {x2-x}, {y2-y}]\")\n",
    "        print(f\"Bounding box coordinates: [{x}, {y}, {x2}, {y2}]\")  # Print bounding box coordinates\n",
    "\n",
    "        cv2.rectangle(frame, (x, y), (x2, y2), (0, 255, 0), 2)\n",
    "        cv2.putText(frame, label, (x, y - 10), cv2.FONT_HERSHEY_SIMPLEX, 0.5, (0, 255, 0), 2)\n",
    "\n",
    "        # Crop the detected region from the frame\n",
    "        cropped_image = frame[y:y2, x:x2]\n",
    "        cv2.imshow(\"Cropped Detected Object\", cropped_image)  # Display the cropped image\n",
    "        \n",
    "        return frame, label\n",
    "    \n",
    "    else:\n",
    "        return frame, None\n",
    "\n",
    "detection_done = False\n",
    "detected_object = None\n",
    "\n",
    "while True:\n",
    "\n",
    "    _, frame = cam.read()\n",
    "    frame = cv2.flip(frame, 1)\n",
    "    rgb_frame = cv2.cvtColor(frame, cv2.COLOR_BGR2RGB)\n",
    "    output = face_mesh.process(rgb_frame)\n",
    "    landmark_points = output.multi_face_landmarks\n",
    "    frame_h, frame_w, _ = frame.shape\n",
    "\n",
    "    if landmark_points:\n",
    "        landmarks = landmark_points[0].landmark\n",
    "\n",
    "        for id, landmark in enumerate(landmarks[474:478]):\n",
    "            x = int(landmark.x * frame_w)\n",
    "            y = int(landmark.y * frame_h)\n",
    "            cv2.circle(frame, (x, y), 3, (0, 255, 0))\n",
    "\n",
    "            if id == 1:\n",
    "                screen_x = int(screen_w * landmark.x)\n",
    "                screen_y = int(screen_h * landmark.y)\n",
    "                pyautogui.moveTo(screen_x, screen_y)\n",
    "\n",
    "        left = [landmarks[145], landmarks[159]]\n",
    "\n",
    "        for landmark in left:\n",
    "            x = int(landmark.x * frame_w)\n",
    "            y = int(landmark.y * frame_h)\n",
    "            cv2.circle(frame, (x, y), 3, (0, 255, 255))\n",
    "\n",
    "        if (left[0].y - left[1].y) < 0.004 and not detection_done:\n",
    "            pyautogui.click()\n",
    "            time.sleep(1)\n",
    "\n",
    "            # Capture a specific region around the click location:\n",
    "            region_size = 900  # Size of the region to capture.\n",
    "            left = max(0, screen_x - region_size // 2)\n",
    "            top = max(0, screen_y - region_size // 2)\n",
    "            width = min(region_size, screen_w - left)\n",
    "            height = min(region_size, screen_h - top)\n",
    "            print(f\"Capturing region: left = {left}, top = {top}, width = {width}, height = {height}\")\n",
    "            screenshot = pyautogui.screenshot(region = (left, top, width, height))\n",
    "            screenshot = cv2.cvtColor(np.array(screenshot), cv2.COLOR_RGB2BGR)\n",
    "\n",
    "            print(\"Running object detection on the captured region...\")\n",
    "            frame, best_object = detect_objects(screenshot)\n",
    "            if best_object:\n",
    "                print(\"Best object detected:\", best_object)\n",
    "                detected_object = best_object\n",
    "                detection_done = True\n",
    "                # Display the detection results for a short period\n",
    "                cv2.imshow('Detected Objects', frame)\n",
    "                cv2.waitKey(10000)  # Display the window for 2 seconds\n",
    "                break  # Exit the while loop after detection\n",
    "            else:\n",
    "                print(\"No objects detected.\")\n",
    "\n",
    "    cv2.imshow('Object Detection', frame)\n",
    "    if cv2.waitKey(1) & 0xFF == ord('q'):\n",
    "        break\n",
    "\n",
    "cam.release()\n",
    "cv2.destroyAllWindows()\n",
    "\n",
    "if detected_object:\n",
    "    print(f\"Detected object: {detected_object}\")\n"
   ]
  },
  {
   "cell_type": "code",
   "execution_count": 3,
   "metadata": {},
   "outputs": [
    {
     "data": {
      "text/plain": [
       "'banana'"
      ]
     },
     "execution_count": 3,
     "metadata": {},
     "output_type": "execute_result"
    }
   ],
   "source": [
    "detected_object"
   ]
  }
 ],
 "metadata": {
  "kernelspec": {
   "display_name": "myenv",
   "language": "python",
   "name": "python3"
  },
  "language_info": {
   "codemirror_mode": {
    "name": "ipython",
    "version": 3
   },
   "file_extension": ".py",
   "mimetype": "text/x-python",
   "name": "python",
   "nbconvert_exporter": "python",
   "pygments_lexer": "ipython3",
   "version": "3.10.9"
  }
 },
 "nbformat": 4,
 "nbformat_minor": 2
}
