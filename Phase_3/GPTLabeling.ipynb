{
 "cells": [
  {
   "cell_type": "code",
   "execution_count": 1,
   "metadata": {},
   "outputs": [],
   "source": [
    "from openai import OpenAI"
   ]
  },
  {
   "cell_type": "code",
   "execution_count": 2,
   "metadata": {},
   "outputs": [],
   "source": [
    "# API:\n",
    "\n",
    "client = OpenAI(api_key = 'key')"
   ]
  },
  {
   "cell_type": "code",
   "execution_count": 3,
   "metadata": {},
   "outputs": [],
   "source": [
    "def classify_comment(prompt_phase_1, prompt_phase_2):\n",
    "\n",
    "    response = client.chat.completions.create(\n",
    "\n",
    "        #model = \"gpt-3.5-turbo-0125\",\n",
    "        model = \"gpt-4o\",\n",
    "\n",
    "        messages=[\n",
    "            # Define the purpose of this model: \n",
    "            {\"role\": \"system\", \"content\": \"Generate a sentence using the given words in the exact order provided. The sentence must: Clearly describe an immediate action, need or observation directly related to the specific object detected in the user’s current environment. Avoid any reference to unrelated actions or contexts that could cause ambiguity. Be concise, direct and focused solely on the present moment.\"},\n",
    "            # Prompt given by the user:\n",
    "            {\"role\": \"user\", \"content\": f\"Can you create a sentence using the following two words: {prompt_phase_1} and {prompt_phase_2}\"}\n",
    "        ],\n",
    "\n",
    "        max_tokens = 300,\n",
    "        temperature = 0.5,\n",
    "    )\n",
    "\n",
    "    classification_response = response.choices[0].message.content\n",
    "    \n",
    "    return classification_response"
   ]
  },
  {
   "cell_type": "code",
   "execution_count": null,
   "metadata": {},
   "outputs": [],
   "source": [
    "provided_response = classify_comment('close', 'soup bowl')\n",
    "provided_response"
   ]
  }
 ],
 "metadata": {
  "kernelspec": {
   "display_name": "thesis",
   "language": "python",
   "name": "python3"
  },
  "language_info": {
   "codemirror_mode": {
    "name": "ipython",
    "version": 3
   },
   "file_extension": ".py",
   "mimetype": "text/x-python",
   "name": "python",
   "nbconvert_exporter": "python",
   "pygments_lexer": "ipython3",
   "version": "3.10.9"
  }
 },
 "nbformat": 4,
 "nbformat_minor": 2
}
