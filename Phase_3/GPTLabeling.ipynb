{
 "cells": [
  {
   "cell_type": "code",
   "execution_count": 1,
   "metadata": {},
   "outputs": [],
   "source": [
    "import os\n",
    "import pandas as pd\n",
    "from openai import OpenAI"
   ]
  },
  {
   "cell_type": "code",
   "execution_count": 2,
   "metadata": {},
   "outputs": [],
   "source": [
    "# API:\n",
    "\n",
    "client = OpenAI(api_key='api-key')"
   ]
  },
  {
   "cell_type": "code",
   "execution_count": 3,
   "metadata": {},
   "outputs": [],
   "source": [
    "def classify_comment(prompt_cnn, prompt_yolo):\n",
    "\n",
    "    response = client.chat.completions.create(\n",
    "\n",
    "        model=\"gpt-3.5-turbo-0125\",\n",
    "\n",
    "        messages=[\n",
    "            # Define the purpose of this model. \n",
    "            {\"role\": \"system\", \"content\": \"Can you create a sentence using the following words in the order in which they are given. Furthermore, ensure that the resulting sentence is of the nature of helping/providing/asking for assistance, given that the proided words are uttered by a person that has certain disabilities and cannot express themselves.\"},\n",
    "            # Prompt given by the user:\n",
    "            {\"role\": \"user\", \"content\": f\"Can you create a sentence using the following two words: {prompt_cnn} and {prompt_yolo}\"}\n",
    "        ],\n",
    "\n",
    "        max_tokens = 300,\n",
    "        temperature = 0.5,\n",
    "    )\n",
    "\n",
    "    classification_response = response.choices[0].message.content\n",
    "    \n",
    "    return classification_response"
   ]
  },
  {
   "cell_type": "code",
   "execution_count": 4,
   "metadata": {},
   "outputs": [
    {
     "data": {
      "text/plain": [
       "'\"Can you please open the door for me?\"'"
      ]
     },
     "execution_count": 4,
     "metadata": {},
     "output_type": "execute_result"
    }
   ],
   "source": [
    "provided_response = classify_comment('open', 'door')\n",
    "provided_response"
   ]
  },
  {
   "cell_type": "code",
   "execution_count": null,
   "metadata": {},
   "outputs": [],
   "source": []
  }
 ],
 "metadata": {
  "kernelspec": {
   "display_name": "thesis",
   "language": "python",
   "name": "python3"
  },
  "language_info": {
   "codemirror_mode": {
    "name": "ipython",
    "version": 3
   },
   "file_extension": ".py",
   "mimetype": "text/x-python",
   "name": "python",
   "nbconvert_exporter": "python",
   "pygments_lexer": "ipython3",
   "version": "3.10.9"
  }
 },
 "nbformat": 4,
 "nbformat_minor": 2
}
